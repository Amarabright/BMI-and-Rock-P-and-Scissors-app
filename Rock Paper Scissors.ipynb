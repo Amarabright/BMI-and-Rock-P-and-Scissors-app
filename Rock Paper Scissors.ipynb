{
 "cells": [
  {
   "cell_type": "code",
   "execution_count": 1,
   "metadata": {},
   "outputs": [
    {
     "name": "stdout",
     "output_type": "stream",
     "text": [
      "you chose r  and the computer chose p\n",
      "Paper covers rock, computer wins\n",
      "you chose p  and the computer chose p\n",
      "Both players chose p, a tie\n",
      "you chose s  and the computer chose r\n",
      "you chose r  and the computer chose r\n",
      "Both players chose r, a tie\n",
      "you chose p  and the computer chose s\n",
      "Scissors cuts paper, computer wins\n"
     ]
    }
   ],
   "source": [
    "import random\n",
    "\n",
    "def rps():\n",
    "    keep_playing = True\n",
    "    while keep_playing is True:\n",
    "\n",
    "        player_input = input(\"Enter r, p, s for rock, paper and scissors\")\n",
    "        possible_actions = [\"r\", \"p\", \"s\"]\n",
    "        computer_input = random.choice(possible_actions)\n",
    "\n",
    "        print(f'you chose {player_input}  and the computer chose {computer_input}')\n",
    "\n",
    "        #same inputs between computer and player\n",
    "        if player_input == computer_input:\n",
    "            print(f'Both players chose {player_input}, a tie')\n",
    "        elif player_input == 'r':\n",
    "            if computer_input == 's':\n",
    "                print('Rock smashes scissors, you win')\n",
    "            else:\n",
    "                print('Paper covers rock, computer wins')\n",
    "        elif player_input == 'p':\n",
    "            if computer_input == 'r':\n",
    "                print('Paper cover rock, you win')\n",
    "            else:\n",
    "                print('Scissors cuts paper, computer wins')\n",
    "        elif player_input == 's':\n",
    "            if computer_input == 'p':\n",
    "                print('scissors cuts paper, you win')\n",
    "            else:\n",
    "                print('Rock smashes scissors, computer wins')\n",
    "        \n",
    "        choice = input('would you like to keep playing?:[y/n] ')    \n",
    "        if choice == \"y\":\n",
    "            keep_playing  = True\n",
    "        elif choice == 'n':\n",
    "            keep_playing = False\n",
    "\n",
    "rps()"
   ]
  },
  {
   "cell_type": "code",
   "execution_count": null,
   "metadata": {},
   "outputs": [],
   "source": []
  }
 ],
 "metadata": {
  "kernelspec": {
   "display_name": "Python 3.10.7 64-bit",
   "language": "python",
   "name": "python3"
  },
  "language_info": {
   "codemirror_mode": {
    "name": "ipython",
    "version": 3
   },
   "file_extension": ".py",
   "mimetype": "text/x-python",
   "name": "python",
   "nbconvert_exporter": "python",
   "pygments_lexer": "ipython3",
   "version": "3.10.7"
  },
  "orig_nbformat": 4,
  "vscode": {
   "interpreter": {
    "hash": "7777c24e712337a5cdc4ce7004baa0f2c9e9c4023f6ee8ee3d52fe34716a3f7c"
   }
  }
 },
 "nbformat": 4,
 "nbformat_minor": 2
}
