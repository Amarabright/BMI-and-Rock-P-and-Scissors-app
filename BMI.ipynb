{
 "cells": [
  {
   "cell_type": "code",
   "execution_count": 1,
   "metadata": {},
   "outputs": [
    {
     "name": "stdout",
     "output_type": "stream",
     "text": [
      "Hello World\n"
     ]
    }
   ],
   "source": [
    "#hello World in python\n",
    "print(\"Hello World\")"
   ]
  },
  {
   "cell_type": "code",
   "execution_count": 3,
   "metadata": {},
   "outputs": [
    {
     "name": "stdout",
     "output_type": "stream",
     "text": [
      "70\n"
     ]
    }
   ],
   "source": [
    "#sum of different values\n",
    "sum = 23 + 12\n",
    "mult = sum * 2\n",
    "print(mult)"
   ]
  },
  {
   "cell_type": "code",
   "execution_count": 6,
   "metadata": {},
   "outputs": [
    {
     "name": "stdout",
     "output_type": "stream",
     "text": [
      "Bethany comes from Kenya\n"
     ]
    }
   ],
   "source": [
    "name = \"Bethany\"\n",
    "country = \"Kenya\"\n",
    "print(name + \" comes from \" + country)"
   ]
  },
  {
   "cell_type": "code",
   "execution_count": 7,
   "metadata": {},
   "outputs": [],
   "source": [
    "#four data types are strings like sentences, integers like whole numbers, floats like decimal points and boolean like true or false.\n",
    "height = 1.45\n",
    "weight = 40\n",
    "overweight = True\n",
    "result = \"you are overweight\""
   ]
  },
  {
   "cell_type": "code",
   "execution_count": 10,
   "metadata": {},
   "outputs": [
    {
     "data": {
      "text/plain": [
       "str"
      ]
     },
     "execution_count": 10,
     "metadata": {},
     "output_type": "execute_result"
    }
   ],
   "source": [
    "#to check for data types in python we use:\n",
    "type(height)\n",
    "type(weight)\n",
    "type(overweight)\n",
    "type(result)"
   ]
  },
  {
   "cell_type": "code",
   "execution_count": 11,
   "metadata": {},
   "outputs": [
    {
     "name": "stdout",
     "output_type": "stream",
     "text": [
      "34 10 1.8333333333333333 252\n"
     ]
    }
   ],
   "source": [
    "sum = 22 + 12\n",
    "sub = 22 - 12\n",
    "div = 22/12\n",
    "mult = 21 * 12\n",
    "print(sum, sub, div, mult)"
   ]
  },
  {
   "cell_type": "code",
   "execution_count": 19,
   "metadata": {},
   "outputs": [
    {
     "data": {
      "text/plain": [
       "10"
      ]
     },
     "execution_count": 19,
     "metadata": {},
     "output_type": "execute_result"
    }
   ],
   "source": [
    "x = 2\n",
    "x += 5\n",
    "x -= 2\n",
    "x *= 2\n",
    "x"
   ]
  },
  {
   "cell_type": "code",
   "execution_count": 20,
   "metadata": {},
   "outputs": [
    {
     "data": {
      "text/plain": [
       "datetime.date(2022, 10, 24)"
      ]
     },
     "execution_count": 20,
     "metadata": {},
     "output_type": "execute_result"
    }
   ],
   "source": [
    "#to use todays date, we need to import the date library\n",
    "from datetime import date\n",
    "date.today()"
   ]
  },
  {
   "cell_type": "code",
   "execution_count": 21,
   "metadata": {},
   "outputs": [
    {
     "name": "stdout",
     "output_type": "stream",
     "text": [
      "Today is:  2022-10-24\n"
     ]
    }
   ],
   "source": [
    "#To concatenate different data types with strings we have to use string function too make the dates become strings.\n",
    "#note thet we can only concatenate same data types\n",
    "print(\"Today is:  \" + str(date.today()))"
   ]
  },
  {
   "cell_type": "code",
   "execution_count": 1,
   "metadata": {},
   "outputs": [
    {
     "name": "stdout",
     "output_type": "stream",
     "text": [
      "Abigail comes from South Africa\n"
     ]
    }
   ],
   "source": [
    "name = input(\"enter your name\")\n",
    "country = input(\"enter your country\")\n",
    "print(name + \" comes from \"  + country)"
   ]
  },
  {
   "cell_type": "code",
   "execution_count": 6,
   "metadata": {},
   "outputs": [
    {
     "name": "stdout",
     "output_type": "stream",
     "text": [
      "BMI Calculator\n",
      "55\n"
     ]
    }
   ],
   "source": [
    "#print(\"BMI Calculator\")\n",
    "#weight = input(\"enter your weight in kg\")\n",
    "#height = input(\"enter your height in meters\")\n",
    "#BMI_Score = (int(weight) / float(height) * float(height))\n",
    "#print(int(BMI_Score))"
   ]
  },
  {
   "cell_type": "code",
   "execution_count": 22,
   "metadata": {},
   "outputs": [
    {
     "name": "stdout",
     "output_type": "stream",
     "text": [
      "BMI Calculator\n",
      "22.22222222222222\n"
     ]
    }
   ],
   "source": [
    "#While the above works, it is important to reduce all the floats that are attached to the BMI score. so we change our code a bit\n",
    "print(\"BMI Calculator\")\n",
    "weight = float(input(\"enter your weight in kg\"))\n",
    "height = float(input(\"enter your height in meters\"))\n",
    "BMI_Score = weight / (height* height)\n",
    "print(BMI_Score)"
   ]
  },
  {
   "cell_type": "code",
   "execution_count": 20,
   "metadata": {},
   "outputs": [
    {
     "name": "stdout",
     "output_type": "stream",
     "text": [
      "a is lesser than b\n"
     ]
    }
   ],
   "source": [
    "#now, we have to condition the statements so that, lets have an introduction\n",
    "a = 12\n",
    "b = 15\n",
    "c =  10\n",
    "\n",
    "if a > b:\n",
    "    if b >  c:\n",
    "        print(\"a is greater than\")\n",
    "    print(\"a is less than b\")\n",
    "elif a == b:\n",
    "    print(\"a and b are equal\")\n",
    "else:\n",
    "    print(\"a is lesser than b\")\n"
   ]
  },
  {
   "cell_type": "code",
   "execution_count": 21,
   "metadata": {},
   "outputs": [
    {
     "name": "stdout",
     "output_type": "stream",
     "text": [
      "BMI Calculator\n",
      "22.22222222222222\n",
      "congratulations, you are healthy\n"
     ]
    }
   ],
   "source": [
    "print(\"BMI Calculator\")\n",
    "weight = float(input(\"enter your weight in kg\"))\n",
    "height = float(input(\"enter your height in meters\"))\n",
    "BMI = weight / (height*height)\n",
    "print(BMI)\n",
    "\n",
    "if(BMI>0):\n",
    "    if(BMI<16):\n",
    "        print(\"you are VERY underweight\")\n",
    "    elif(BMI<=18.5):\n",
    "        print(\"you are underweight\")\n",
    "    elif(BMI<=25):\n",
    "        print(\"congratulations, you are healthy\")\n",
    "    elif(BMI<=30):\n",
    "        print(\"you are overweight\")\n",
    "    else:\n",
    "        print(\"you are very overweight\")\n",
    "else:\n",
    "    print(\"enter valid details\")\n"
   ]
  },
  {
   "cell_type": "code",
   "execution_count": null,
   "metadata": {},
   "outputs": [],
   "source": []
  },
  {
   "cell_type": "code",
   "execution_count": null,
   "metadata": {},
   "outputs": [],
   "source": []
  }
 ],
 "metadata": {
  "kernelspec": {
   "display_name": "Python 3.10.7 64-bit",
   "language": "python",
   "name": "python3"
  },
  "language_info": {
   "codemirror_mode": {
    "name": "ipython",
    "version": 3
   },
   "file_extension": ".py",
   "mimetype": "text/x-python",
   "name": "python",
   "nbconvert_exporter": "python",
   "pygments_lexer": "ipython3",
   "version": "3.10.7"
  },
  "orig_nbformat": 4,
  "vscode": {
   "interpreter": {
    "hash": "7777c24e712337a5cdc4ce7004baa0f2c9e9c4023f6ee8ee3d52fe34716a3f7c"
   }
  }
 },
 "nbformat": 4,
 "nbformat_minor": 2
}
